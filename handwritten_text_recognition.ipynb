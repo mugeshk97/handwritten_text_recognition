{
 "cells": [
  {
   "cell_type": "code",
   "execution_count": 1,
   "metadata": {},
   "outputs": [
    {
     "name": "stdout",
     "output_type": "stream",
     "text": [
      "Sat Aug 01 18:13:16 2020       \n",
      "+-----------------------------------------------------------------------------+\n",
      "| NVIDIA-SMI 445.87       Driver Version: 445.87       CUDA Version: 11.0     |\n",
      "|-------------------------------+----------------------+----------------------+\n",
      "| GPU  Name            TCC/WDDM | Bus-Id        Disp.A | Volatile Uncorr. ECC |\n",
      "| Fan  Temp  Perf  Pwr:Usage/Cap|         Memory-Usage | GPU-Util  Compute M. |\n",
      "|===============================+======================+======================|\n",
      "|   0  GeForce GTX 1650   WDDM  | 00000000:01:00.0 Off |                  N/A |\n",
      "| N/A   61C    P8     7W /  N/A |    134MiB /  4096MiB |      0%      Default |\n",
      "+-------------------------------+----------------------+----------------------+\n",
      "                                                                               \n",
      "+-----------------------------------------------------------------------------+\n",
      "| Processes:                                                                  |\n",
      "|  GPU                  PID   Type   Process name                  GPU Memory |\n",
      "|                                                                  Usage      |\n",
      "|=============================================================================|\n",
      "|  No running processes found                                                 |\n",
      "+-----------------------------------------------------------------------------+\n"
     ]
    }
   ],
   "source": [
    "!nvidia-smi"
   ]
  },
  {
   "cell_type": "code",
   "execution_count": 11,
   "metadata": {},
   "outputs": [
    {
     "data": {
      "text/plain": [
       "'2.3.1'"
      ]
     },
     "execution_count": 11,
     "metadata": {},
     "output_type": "execute_result"
    }
   ],
   "source": [
    "import keras\n",
    "keras.__version__"
   ]
  },
  {
   "cell_type": "markdown",
   "metadata": {},
   "source": [
    "#### *IMPORTING THE DEPENDENCIES*"
   ]
  },
  {
   "cell_type": "code",
   "execution_count": 2,
   "metadata": {},
   "outputs": [
    {
     "name": "stderr",
     "output_type": "stream",
     "text": [
      "Using TensorFlow backend.\n"
     ]
    }
   ],
   "source": [
    "import string\n",
    "import cv2\n",
    "import os\n",
    "import pandas as pd\n",
    "import numpy as np\n",
    "import matplotlib.pyplot as plt\n",
    "\n",
    "from keras.preprocessing.sequence import pad_sequences\n",
    "from keras.layers import Dense, LSTM, Reshape, BatchNormalization, Input, Conv2D, MaxPool2D, Lambda, Bidirectional\n",
    "from keras.models import Model\n",
    "import keras.backend as K\n",
    "from keras.utils import to_categorical\n",
    "from keras.callbacks import ModelCheckpoint"
   ]
  },
  {
   "cell_type": "markdown",
   "metadata": {},
   "source": [
    "#### *READING THE TEXT FILE*"
   ]
  },
  {
   "cell_type": "code",
   "execution_count": 3,
   "metadata": {
    "colab": {
     "base_uri": "https://localhost:8080/",
     "height": 35
    },
    "colab_type": "code",
    "id": "Nte5YLv_CAlK",
    "outputId": "ecb32849-6524-4f96-bcb8-7b6e5ffa17cc"
   },
   "outputs": [],
   "source": [
    "def read_file(filename):\n",
    "    file = open(filename, 'r')\n",
    "    text = file.read()\n",
    "    file.close()\n",
    "    return text"
   ]
  },
  {
   "cell_type": "code",
   "execution_count": 4,
   "metadata": {},
   "outputs": [
    {
     "data": {
      "text/plain": [
       "['a01-000u-00-00 ok 154 408 768 27 51 AT A',\n",
       " 'a01-000u-00-01 ok 154 507 766 213 48 NN MOVE',\n",
       " 'a01-000u-00-02 ok 154 796 764 70 50 TO to',\n",
       " 'a01-000u-00-03 ok 154 919 757 166 78 VB stop',\n",
       " 'a01-000u-00-04 ok 154 1185 754 126 61 NPT Mr.',\n",
       " 'a01-000u-00-05 ok 154 1438 746 382 73 NP Gaitskell',\n",
       " 'a01-000u-00-06 ok 154 1896 757 173 72 IN from',\n",
       " 'a01-000u-01-00 ok 156 395 932 441 100 VBG nominating',\n",
       " 'a01-000u-01-01 ok 156 901 958 147 79 DTI any',\n",
       " 'a01-000u-01-02 ok 156 1112 958 208 42 AP more']"
      ]
     },
     "execution_count": 4,
     "metadata": {},
     "output_type": "execute_result"
    }
   ],
   "source": [
    "data = read_file('parser.txt')\n",
    "data = data.split('\\n')\n",
    "data[:10]"
   ]
  },
  {
   "cell_type": "markdown",
   "metadata": {},
   "source": [
    "#### *ENCODER FUNCTION*"
   ]
  },
  {
   "cell_type": "code",
   "execution_count": 6,
   "metadata": {
    "colab": {
     "base_uri": "https://localhost:8080/",
     "height": 34
    },
    "colab_type": "code",
    "id": "zWV38XViCCan",
    "outputId": "31b6ae27-ef07-43d8-8f9e-6b0c1e86ef0f"
   },
   "outputs": [
    {
     "name": "stdout",
     "output_type": "stream",
     "text": [
      "abcdefghijklmnopqrstuvwxyzABCDEFGHIJKLMNOPQRSTUVWXYZ0123456789!\"#$%&'()*+,-./:;<=>?@[\\]^_`{|}~ 94\n"
     ]
    }
   ],
   "source": [
    "characters = string.ascii_letters + string.digits + string.punctuation\n",
    "def encoder(txt):\n",
    "    output = []\n",
    "    for index, character in enumerate(txt):\n",
    "        output.append(characters.index(character))\n",
    "    return output\n",
    "print(characters,len(characters))"
   ]
  },
  {
   "cell_type": "markdown",
   "metadata": {},
   "source": [
    "#### *PREPROCESSING THE IMAGE FILES*"
   ]
  },
  {
   "cell_type": "code",
   "execution_count": 6,
   "metadata": {
    "colab": {},
    "colab_type": "code",
    "id": "aXbMbbD5CREV"
   },
   "outputs": [],
   "source": [
    "def transform(image):\n",
    "    width , height = image.shape\n",
    "\n",
    "    new_width = 32\n",
    "    new_height = int(height * (new_width / width))\n",
    "    image = cv2.resize(image, (new_height , new_width))\n",
    "    image = image.astype('float32')\n",
    "    width , height = image.shape\n",
    "\n",
    "    if width < 32:\n",
    "        add_zeros = np.full((32-width, height), 255)\n",
    "        image = np.concatenate((image, add_zeros))\n",
    "        width , height = image.shape\n",
    "\n",
    "    if height < 128:\n",
    "        add_zeros = np.full((width , 128-height), 255)\n",
    "        image = np.concatenate((image, add_zeros), axis=1)\n",
    "        width , height = image.shape\n",
    "\n",
    "    if height > 128 or width > 32:\n",
    "        dim = (128,32)\n",
    "        image = cv2.resize(image, dim)\n",
    "\n",
    "    image = cv2.subtract(255, image)\n",
    "    # Expanding the dimension of image\n",
    "    image = np.expand_dims(image, axis=2)\n",
    "    # Normalize the image\n",
    "    image = image / 255\n",
    "    return image"
   ]
  },
  {
   "cell_type": "markdown",
   "metadata": {
    "colab_type": "text",
    "id": "77zmid7KHly9"
   },
   "source": [
    "#### *GENERATING THE TRAINING AND VALIDATION DATA*"
   ]
  },
  {
   "cell_type": "code",
   "execution_count": 7,
   "metadata": {
    "colab": {},
    "colab_type": "code",
    "id": "NO54Ki0ICa9K"
   },
   "outputs": [],
   "source": [
    "train_images = []\n",
    "train_labels = []\n",
    "train_input_length = []\n",
    "train_label_length = []\n",
    "train_original_text = []\n",
    "\n",
    "valid_images = []\n",
    "valid_labels = []\n",
    "valid_input_length = []\n",
    "valid_label_length = []\n",
    "valid_original_text = []\n",
    "\n",
    "max_len = 0\n",
    "\n",
    "for index, line in enumerate(data):\n",
    "    splits = line.split(' ')\n",
    "    status = splits[1]\n",
    "    if status == 'ok':\n",
    "        word_id = splits[0]\n",
    "        word = \"\".join(splits[8:])\n",
    "        splits_id = word_id.split('-')\n",
    "        filepath = 'words/{}/{}-{}/{}.png'.format(splits_id[0], splits_id[0], splits_id[1],word_id)\n",
    "        # processing on image\n",
    "        img = cv2.imread(filepath, cv2.IMREAD_GRAYSCALE)\n",
    "        try:\n",
    "            img = transform(img)\n",
    "        except:\n",
    "            continue\n",
    "        # processing on label\n",
    "        try:\n",
    "            label = encoder(word)\n",
    "        except:\n",
    "            continue\n",
    "        if index % 10 == 0:\n",
    "            valid_images.append(img)\n",
    "            valid_labels.append(label)\n",
    "            valid_input_length.append(31)\n",
    "            valid_label_length.append(len(word))\n",
    "            valid_original_text.append(word)\n",
    "        else:\n",
    "            train_images.append(img)\n",
    "            train_labels.append(label)\n",
    "            train_input_length.append(31)\n",
    "            train_label_length.append(len(word))\n",
    "            train_original_text.append(word)\n",
    "        if len(word) > max_len:\n",
    "            max_len = len(word)\n",
    "    if index >= 10000:\n",
    "        break"
   ]
  },
  {
   "cell_type": "markdown",
   "metadata": {
    "colab_type": "text",
    "id": "S08OVL07IsRY"
   },
   "source": [
    "#### *PADDING THE SEQUENCES*"
   ]
  },
  {
   "cell_type": "code",
   "execution_count": 8,
   "metadata": {
    "colab": {},
    "colab_type": "code",
    "id": "CqJP3ZfnCbX5"
   },
   "outputs": [],
   "source": [
    "train_padded_label = pad_sequences(train_labels, \n",
    "                             maxlen=max_len, \n",
    "                             padding='post',\n",
    "                             value=len(characters))\n",
    "\n",
    "valid_padded_label = pad_sequences(valid_labels, \n",
    "                             maxlen=max_len, \n",
    "                             padding='post',\n",
    "                             value=len(characters))"
   ]
  },
  {
   "cell_type": "code",
   "execution_count": 9,
   "metadata": {
    "colab": {
     "base_uri": "https://localhost:8080/",
     "height": 34
    },
    "colab_type": "code",
    "id": "rPN6audwCnCO",
    "outputId": "82203e12-bc63-4555-a25b-0033a82b2598"
   },
   "outputs": [
    {
     "data": {
      "text/plain": [
       "((7850, 16), (876, 16))"
      ]
     },
     "execution_count": 9,
     "metadata": {},
     "output_type": "execute_result"
    }
   ],
   "source": [
    "train_padded_label.shape, valid_padded_label.shape"
   ]
  },
  {
   "cell_type": "markdown",
   "metadata": {
    "colab_type": "text",
    "id": "NAfLz0e1I-Ao"
   },
   "source": [
    "#### *CONVERTING IT INTO A NUMPY ARRAY*"
   ]
  },
  {
   "cell_type": "code",
   "execution_count": 10,
   "metadata": {
    "colab": {},
    "colab_type": "code",
    "id": "AsGyb8qGCoqb"
   },
   "outputs": [],
   "source": [
    "train_images = np.asarray(train_images)\n",
    "train_input_length = np.asarray(train_input_length)\n",
    "train_label_length = np.asarray(train_label_length)\n",
    "\n",
    "valid_images = np.asarray(valid_images)\n",
    "valid_input_length = np.asarray(valid_input_length)\n",
    "valid_label_length = np.asarray(valid_label_length)"
   ]
  },
  {
   "cell_type": "code",
   "execution_count": 11,
   "metadata": {
    "colab": {
     "base_uri": "https://localhost:8080/",
     "height": 34
    },
    "colab_type": "code",
    "id": "ynka_dx2D05g",
    "outputId": "3393c1e3-ff59-45db-e3d0-dd44db4fea4c"
   },
   "outputs": [
    {
     "data": {
      "text/plain": [
       "(7850, 32, 128, 1)"
      ]
     },
     "execution_count": 11,
     "metadata": {},
     "output_type": "execute_result"
    }
   ],
   "source": [
    "train_images.shape"
   ]
  },
  {
   "cell_type": "markdown",
   "metadata": {},
   "source": [
    "#### *BUILDING THE MODEL*"
   ]
  },
  {
   "cell_type": "code",
   "execution_count": 7,
   "metadata": {
    "colab": {},
    "colab_type": "code",
    "id": "4MBub4wFD2qG"
   },
   "outputs": [],
   "source": [
    "inputs = Input(shape=(32,128,1))\n",
    "conv_1 = Conv2D(64, (3,3), activation = 'relu', padding='same')(inputs)\n",
    "pool_1 = MaxPool2D(pool_size=(2, 2), strides=2)(conv_1) \n",
    "conv_2 = Conv2D(128, (3,3), activation = 'relu', padding='same')(pool_1)\n",
    "pool_2 = MaxPool2D(pool_size=(2, 2), strides=2)(conv_2)\n",
    "conv_3 = Conv2D(256, (3,3), activation = 'relu', padding='same')(pool_2)\n",
    "conv_4 = Conv2D(256, (3,3), activation = 'relu', padding='same')(conv_3)\n",
    "pool_4 = MaxPool2D(pool_size=(2, 1))(conv_4) \n",
    "conv_5 = Conv2D(512, (3,3), activation = 'relu', padding='same')(pool_4)\n",
    "batch_norm_5 = BatchNormalization()(conv_5)\n",
    "conv_6 = Conv2D(512, (3,3), activation = 'relu', padding='same')(batch_norm_5)\n",
    "batch_norm_6 = BatchNormalization()(conv_6)\n",
    "pool_6 = MaxPool2D(pool_size=(2, 1))(batch_norm_6)\n",
    "conv_7 = Conv2D(512, (2,2), activation = 'relu')(pool_6)\n",
    "\n",
    "squeezed = Lambda(lambda x: K.squeeze(x, 1))(conv_7)\n",
    " \n",
    "blstm_1 = Bidirectional(LSTM(256, return_sequences=True, dropout = 0.2))(squeezed)\n",
    "blstm_2 = Bidirectional(LSTM(256, return_sequences=True, dropout = 0.2))(blstm_1)\n",
    " \n",
    "outputs = Dense(len(characters)+1, activation = 'softmax')(blstm_2)\n",
    "\n",
    "model = Model(inputs, outputs)"
   ]
  },
  {
   "cell_type": "code",
   "execution_count": 8,
   "metadata": {
    "colab": {
     "base_uri": "https://localhost:8080/",
     "height": 756
    },
    "colab_type": "code",
    "id": "8A9yM0CWD6bV",
    "outputId": "c8ef35c9-5e05-4445-c64a-f68b7ec270e1"
   },
   "outputs": [
    {
     "name": "stdout",
     "output_type": "stream",
     "text": [
      "Model: \"model_1\"\n",
      "_________________________________________________________________\n",
      "Layer (type)                 Output Shape              Param #   \n",
      "=================================================================\n",
      "input_2 (InputLayer)         (None, 32, 128, 1)        0         \n",
      "_________________________________________________________________\n",
      "conv2d_8 (Conv2D)            (None, 32, 128, 64)       640       \n",
      "_________________________________________________________________\n",
      "max_pooling2d_5 (MaxPooling2 (None, 16, 64, 64)        0         \n",
      "_________________________________________________________________\n",
      "conv2d_9 (Conv2D)            (None, 16, 64, 128)       73856     \n",
      "_________________________________________________________________\n",
      "max_pooling2d_6 (MaxPooling2 (None, 8, 32, 128)        0         \n",
      "_________________________________________________________________\n",
      "conv2d_10 (Conv2D)           (None, 8, 32, 256)        295168    \n",
      "_________________________________________________________________\n",
      "conv2d_11 (Conv2D)           (None, 8, 32, 256)        590080    \n",
      "_________________________________________________________________\n",
      "max_pooling2d_7 (MaxPooling2 (None, 4, 32, 256)        0         \n",
      "_________________________________________________________________\n",
      "conv2d_12 (Conv2D)           (None, 4, 32, 512)        1180160   \n",
      "_________________________________________________________________\n",
      "batch_normalization_3 (Batch (None, 4, 32, 512)        2048      \n",
      "_________________________________________________________________\n",
      "conv2d_13 (Conv2D)           (None, 4, 32, 512)        2359808   \n",
      "_________________________________________________________________\n",
      "batch_normalization_4 (Batch (None, 4, 32, 512)        2048      \n",
      "_________________________________________________________________\n",
      "max_pooling2d_8 (MaxPooling2 (None, 2, 32, 512)        0         \n",
      "_________________________________________________________________\n",
      "conv2d_14 (Conv2D)           (None, 1, 31, 512)        1049088   \n",
      "_________________________________________________________________\n",
      "lambda_2 (Lambda)            (None, 31, 512)           0         \n",
      "_________________________________________________________________\n",
      "bidirectional_3 (Bidirection (None, 31, 512)           1574912   \n",
      "_________________________________________________________________\n",
      "bidirectional_4 (Bidirection (None, 31, 512)           1574912   \n",
      "_________________________________________________________________\n",
      "dense_1 (Dense)              (None, 31, 95)            48735     \n",
      "=================================================================\n",
      "Total params: 8,751,455\n",
      "Trainable params: 8,749,407\n",
      "Non-trainable params: 2,048\n",
      "_________________________________________________________________\n"
     ]
    }
   ],
   "source": [
    "model.summary()"
   ]
  },
  {
   "cell_type": "markdown",
   "metadata": {},
   "source": [
    "#### *LOSS FUNCTION*"
   ]
  },
  {
   "cell_type": "code",
   "execution_count": 14,
   "metadata": {
    "colab": {},
    "colab_type": "code",
    "id": "CZHX-VWmD9KF"
   },
   "outputs": [],
   "source": [
    "labels = Input(name='labels', shape=[max_len], dtype='float32')\n",
    "input_length = Input(name='input_length', shape=[1], dtype='int64')\n",
    "label_length = Input(name='label_length', shape=[1], dtype='int64')\n",
    "\n",
    "def ctc_lambda_func(args):\n",
    "    y_pred, labels, input_length, label_length = args\n",
    "    \n",
    "    return K.ctc_batch_cost(labels, y_pred, input_length, label_length)\n",
    "\n",
    "loss = Lambda(ctc_lambda_func, output_shape=(1,), name='ctc')([outputs, labels, input_length, label_length])"
   ]
  },
  {
   "cell_type": "markdown",
   "metadata": {},
   "source": [
    "#### *MODEL USED FOR TRAINING*"
   ]
  },
  {
   "cell_type": "code",
   "execution_count": 15,
   "metadata": {},
   "outputs": [],
   "source": [
    "#model to be used at training time\n",
    "model = Model(inputs=[inputs, labels, input_length, label_length], outputs=loss)"
   ]
  },
  {
   "cell_type": "code",
   "execution_count": 16,
   "metadata": {},
   "outputs": [],
   "source": [
    "batch_size = 16\n",
    "epochs = 30\n",
    "e = str(epochs)\n",
    "optimizer = 'Adam'"
   ]
  },
  {
   "cell_type": "code",
   "execution_count": 17,
   "metadata": {},
   "outputs": [],
   "source": [
    "model.compile(loss={'ctc': lambda y_true, y_pred: y_pred}, optimizer = optimizer, metrics=['accuracy'])\n",
    "# callbacks function\n",
    "filepath=\"models/model-{}e-{}o.h5\".format(str(epochs),str(optimizer))\n",
    "checkpoint = ModelCheckpoint(filepath=filepath, monitor='val_loss', verbose=1, save_best_only=True, mode='auto')"
   ]
  },
  {
   "cell_type": "code",
   "execution_count": 18,
   "metadata": {
    "colab": {
     "base_uri": "https://localhost:8080/",
     "height": 1000
    },
    "colab_type": "code",
    "id": "Xvt3MZ9EEEhR",
    "outputId": "5b0dcbff-3fa2-4d27-ceba-513285680332"
   },
   "outputs": [
    {
     "name": "stdout",
     "output_type": "stream",
     "text": [
      "Train on 7850 samples, validate on 876 samples\n",
      "Epoch 1/30\n",
      "7850/7850 [==============================] - 104s 13ms/step - loss: 15.1404 - accuracy: 0.0042 - val_loss: 13.7510 - val_accuracy: 0.0000e+00\n",
      "\n",
      "Epoch 00001: val_loss improved from inf to 13.75102, saving model to models/model-30e-Adamo.h5\n",
      "Epoch 2/30\n",
      "7850/7850 [==============================] - 103s 13ms/step - loss: 12.4926 - accuracy: 0.0419 - val_loss: 12.3519 - val_accuracy: 0.0537\n",
      "\n",
      "Epoch 00002: val_loss improved from 13.75102 to 12.35194, saving model to models/model-30e-Adamo.h5\n",
      "Epoch 3/30\n",
      "7850/7850 [==============================] - 108s 14ms/step - loss: 10.9730 - accuracy: 0.0669 - val_loss: 10.8545 - val_accuracy: 0.0765\n",
      "\n",
      "Epoch 00003: val_loss improved from 12.35194 to 10.85446, saving model to models/model-30e-Adamo.h5\n",
      "Epoch 4/30\n",
      "7850/7850 [==============================] - 110s 14ms/step - loss: 9.7239 - accuracy: 0.0924 - val_loss: 9.8607 - val_accuracy: 0.1221\n",
      "\n",
      "Epoch 00004: val_loss improved from 10.85446 to 9.86072, saving model to models/model-30e-Adamo.h5\n",
      "Epoch 5/30\n",
      "7850/7850 [==============================] - 115s 15ms/step - loss: 8.6710 - accuracy: 0.1308 - val_loss: 8.4766 - val_accuracy: 0.1598\n",
      "\n",
      "Epoch 00005: val_loss improved from 9.86072 to 8.47661, saving model to models/model-30e-Adamo.h5\n",
      "Epoch 6/30\n",
      "7850/7850 [==============================] - 117s 15ms/step - loss: 7.6728 - accuracy: 0.1632 - val_loss: 7.7262 - val_accuracy: 0.1712\n",
      "\n",
      "Epoch 00006: val_loss improved from 8.47661 to 7.72624, saving model to models/model-30e-Adamo.h5\n",
      "Epoch 7/30\n",
      "7850/7850 [==============================] - 110s 14ms/step - loss: 6.7058 - accuracy: 0.1869 - val_loss: 6.7707 - val_accuracy: 0.1941\n",
      "\n",
      "Epoch 00007: val_loss improved from 7.72624 to 6.77066, saving model to models/model-30e-Adamo.h5\n",
      "Epoch 8/30\n",
      "7850/7850 [==============================] - 110s 14ms/step - loss: 5.7979 - accuracy: 0.2098 - val_loss: 5.8265 - val_accuracy: 0.2055\n",
      "\n",
      "Epoch 00008: val_loss improved from 6.77066 to 5.82648, saving model to models/model-30e-Adamo.h5\n",
      "Epoch 9/30\n",
      "7850/7850 [==============================] - 111s 14ms/step - loss: 5.0143 - accuracy: 0.2406 - val_loss: 5.2183 - val_accuracy: 0.2340\n",
      "\n",
      "Epoch 00009: val_loss improved from 5.82648 to 5.21826, saving model to models/model-30e-Adamo.h5\n",
      "Epoch 10/30\n",
      "7850/7850 [==============================] - 110s 14ms/step - loss: 4.4139 - accuracy: 0.2679 - val_loss: 4.7216 - val_accuracy: 0.2660\n",
      "\n",
      "Epoch 00010: val_loss improved from 5.21826 to 4.72165, saving model to models/model-30e-Adamo.h5\n",
      "Epoch 11/30\n",
      "7850/7850 [==============================] - 111s 14ms/step - loss: 3.9850 - accuracy: 0.2806 - val_loss: 4.6496 - val_accuracy: 0.2717\n",
      "\n",
      "Epoch 00011: val_loss improved from 4.72165 to 4.64961, saving model to models/model-30e-Adamo.h5\n",
      "Epoch 12/30\n",
      "7850/7850 [==============================] - 110s 14ms/step - loss: 3.5570 - accuracy: 0.3101 - val_loss: 4.0377 - val_accuracy: 0.3196\n",
      "\n",
      "Epoch 00012: val_loss improved from 4.64961 to 4.03772, saving model to models/model-30e-Adamo.h5\n",
      "Epoch 13/30\n",
      "7850/7850 [==============================] - 111s 14ms/step - loss: 3.2260 - accuracy: 0.3293 - val_loss: 4.3203 - val_accuracy: 0.3174\n",
      "\n",
      "Epoch 00013: val_loss did not improve from 4.03772\n",
      "Epoch 14/30\n",
      "7850/7850 [==============================] - 111s 14ms/step - loss: 3.0256 - accuracy: 0.3461 - val_loss: 4.5080 - val_accuracy: 0.3014\n",
      "\n",
      "Epoch 00014: val_loss did not improve from 4.03772\n",
      "Epoch 15/30\n",
      "7850/7850 [==============================] - 110s 14ms/step - loss: 2.7466 - accuracy: 0.3735 - val_loss: 3.8128 - val_accuracy: 0.3311\n",
      "\n",
      "Epoch 00015: val_loss improved from 4.03772 to 3.81276, saving model to models/model-30e-Adamo.h5\n",
      "Epoch 16/30\n",
      "7850/7850 [==============================] - 111s 14ms/step - loss: 2.4921 - accuracy: 0.3990 - val_loss: 3.6172 - val_accuracy: 0.3824\n",
      "\n",
      "Epoch 00016: val_loss improved from 3.81276 to 3.61723, saving model to models/model-30e-Adamo.h5\n",
      "Epoch 17/30\n",
      "7850/7850 [==============================] - 110s 14ms/step - loss: 2.3363 - accuracy: 0.4161 - val_loss: 3.7506 - val_accuracy: 0.3721\n",
      "\n",
      "Epoch 00017: val_loss did not improve from 3.61723\n",
      "Epoch 18/30\n",
      "7850/7850 [==============================] - 110s 14ms/step - loss: 2.2368 - accuracy: 0.4266 - val_loss: 3.3580 - val_accuracy: 0.4075\n",
      "\n",
      "Epoch 00018: val_loss improved from 3.61723 to 3.35802, saving model to models/model-30e-Adamo.h5\n",
      "Epoch 19/30\n",
      "7850/7850 [==============================] - 114s 15ms/step - loss: 2.0130 - accuracy: 0.4515 - val_loss: 3.8602 - val_accuracy: 0.3368\n",
      "\n",
      "Epoch 00019: val_loss did not improve from 3.35802\n",
      "Epoch 20/30\n",
      "7850/7850 [==============================] - 109s 14ms/step - loss: 1.9117 - accuracy: 0.4629 - val_loss: 3.7726 - val_accuracy: 0.4041\n",
      "\n",
      "Epoch 00020: val_loss did not improve from 3.35802\n",
      "Epoch 21/30\n",
      "7850/7850 [==============================] - 106s 14ms/step - loss: 1.9330 - accuracy: 0.4688 - val_loss: 3.7259 - val_accuracy: 0.4053\n",
      "\n",
      "Epoch 00021: val_loss did not improve from 3.35802\n",
      "Epoch 22/30\n",
      "7850/7850 [==============================] - 105s 13ms/step - loss: 1.7574 - accuracy: 0.5017 - val_loss: 3.3423 - val_accuracy: 0.4680\n",
      "\n",
      "Epoch 00022: val_loss improved from 3.35802 to 3.34229, saving model to models/model-30e-Adamo.h5\n",
      "Epoch 23/30\n",
      "7850/7850 [==============================] - 106s 13ms/step - loss: 1.6569 - accuracy: 0.5054 - val_loss: 3.9988 - val_accuracy: 0.4041\n",
      "\n",
      "Epoch 00023: val_loss did not improve from 3.34229\n",
      "Epoch 24/30\n",
      "7850/7850 [==============================] - 118s 15ms/step - loss: 1.5890 - accuracy: 0.5247 - val_loss: 3.5889 - val_accuracy: 0.4372\n",
      "\n",
      "Epoch 00024: val_loss did not improve from 3.34229\n",
      "Epoch 25/30\n",
      "7850/7850 [==============================] - 105s 13ms/step - loss: 1.5707 - accuracy: 0.5282 - val_loss: 3.4820 - val_accuracy: 0.4498\n",
      "\n",
      "Epoch 00025: val_loss did not improve from 3.34229\n",
      "Epoch 26/30\n",
      "7850/7850 [==============================] - 108s 14ms/step - loss: 1.5069 - accuracy: 0.5339 - val_loss: 3.4580 - val_accuracy: 0.4669\n",
      "\n",
      "Epoch 00026: val_loss did not improve from 3.34229\n",
      "Epoch 27/30\n",
      "7850/7850 [==============================] - 106s 13ms/step - loss: 1.3866 - accuracy: 0.5545 - val_loss: 3.4827 - val_accuracy: 0.4566\n",
      "\n",
      "Epoch 00027: val_loss did not improve from 3.34229\n",
      "Epoch 28/30\n",
      "7850/7850 [==============================] - 112s 14ms/step - loss: 1.3519 - accuracy: 0.5620 - val_loss: 3.4264 - val_accuracy: 0.4486\n",
      "\n",
      "Epoch 00028: val_loss did not improve from 3.34229\n",
      "Epoch 29/30\n",
      "7850/7850 [==============================] - 109s 14ms/step - loss: 1.3189 - accuracy: 0.5782 - val_loss: 3.5630 - val_accuracy: 0.4566\n",
      "\n",
      "Epoch 00029: val_loss did not improve from 3.34229\n",
      "Epoch 30/30\n",
      "7850/7850 [==============================] - 111s 14ms/step - loss: 1.2790 - accuracy: 0.5847 - val_loss: 3.2896 - val_accuracy: 0.4795\n",
      "\n",
      "Epoch 00030: val_loss improved from 3.34229 to 3.28958, saving model to models/model-30e-Adamo.h5\n"
     ]
    }
   ],
   "source": [
    "history = model.fit(x=[train_images, train_padded_label, train_input_length, train_label_length],\n",
    "                    y=np.zeros(len(train_images)),\n",
    "                    batch_size=batch_size, \n",
    "                    epochs=epochs, \n",
    "                    validation_data=([valid_images, valid_padded_label, valid_input_length, valid_label_length], [np.zeros(len(valid_images))]),\n",
    "                    verbose=1,\n",
    "                    callbacks=[checkpoint])"
   ]
  }
 ],
 "metadata": {
  "accelerator": "GPU",
  "colab": {
   "name": "Copy of HTR_USING_CRNN_IN_GOOGLE_COLAB.ipynb",
   "provenance": [],
   "toc_visible": true
  },
  "kernelspec": {
   "display_name": "Python 3",
   "language": "python",
   "name": "python3"
  },
  "language_info": {
   "codemirror_mode": {
    "name": "ipython",
    "version": 3
   },
   "file_extension": ".py",
   "mimetype": "text/x-python",
   "name": "python",
   "nbconvert_exporter": "python",
   "pygments_lexer": "ipython3",
   "version": "3.7.6"
  }
 },
 "nbformat": 4,
 "nbformat_minor": 1
}
